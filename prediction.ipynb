{
  "cells": [
    {
      "cell_type": "markdown",
      "metadata": {
        "id": "view-in-github",
        "colab_type": "text"
      },
      "source": [
        "<a href=\"https://colab.research.google.com/github/ishmam1234/titanic/blob/main/prediction.ipynb\" target=\"_parent\"><img src=\"https://colab.research.google.com/assets/colab-badge.svg\" alt=\"Open In Colab\"/></a>"
      ]
    },
    {
      "cell_type": "code",
      "execution_count": 7,
      "metadata": {
        "colab": {
          "base_uri": "https://localhost:8080/"
        },
        "id": "yrM6ps19GGxY",
        "outputId": "2994ae78-3fcb-474f-a5cd-7f8ee4365527"
      },
      "outputs": [
        {
          "output_type": "stream",
          "name": "stdout",
          "text": [
            "Drive already mounted at /content/drive; to attempt to forcibly remount, call drive.mount(\"/content/drive\", force_remount=True).\n"
          ]
        }
      ],
      "source": [
        "from google.colab import drive\n",
        "drive.mount('/content/drive')"
      ]
    },
    {
      "cell_type": "code",
      "execution_count": 8,
      "metadata": {
        "id": "NAAs-X7kq_7s"
      },
      "outputs": [],
      "source": [
        "import pandas as pd\n",
        "\n",
        "# Specify the path to the text file in Google Drive\n",
        "file_path = '/content/drive/My Drive/data/Models/predict_val.txt'\n",
        "\n"
      ]
    },
    {
      "cell_type": "code",
      "source": [
        "import pandas as pd\n",
        "import numpy as np\n",
        "import os\n",
        "\n",
        "# Directory where your CSV files are located\n",
        "csv_directory = '/content/drive/My Drive'\n",
        "# Load CSV files into a dictionary\n",
        "datasets = {}\n",
        "soil_files = {\n",
        "    \"Coarse Sand\": \"CSV-C.csv\",\n",
        "    \"Medium Coarse Sand\": \"MCa.csv\",\n",
        "    \"Fine Sand\": \"Finei.csv\"\n",
        "    # \"Sand Soil\": \"sand_soil.csv\"\n",
        "}\n",
        "\n",
        "# Load each CSV file into the datasets dictionary\n",
        "for soil_type, file_name in soil_files.items():\n",
        "    file_path = os.path.join(csv_directory, file_name)\n",
        "    datasets[soil_type] = pd.read_csv(file_path)\n",
        "\n",
        "# Function to get water content\n",
        "def get_water_content(soil_type, capacitance):\n",
        "    # Check if soil type exists in datasets\n",
        "    if soil_type not in datasets:\n",
        "        return \"Soil type not found in datasets.\"\n",
        "\n",
        "    # Get the dataset for the specified soil type\n",
        "    df = datasets[soil_type]\n",
        "\n",
        "    # Find the row with the closest capacitance value\n",
        "    closest_row = df.iloc[(np.abs(df[\"Capacitance \"] - capacitance)).argmin()]\n",
        "\n",
        "    # Return the water content\n",
        "    return closest_row[\"Water Content\"]\n",
        "\n",
        "# Input from user\n",
        "soil_type_input = input(\"Enter soil type (e.g., 'Coarse Sand', 'Medium Coarse Sand', 'Fine Sand'): \").strip()\n",
        "capacitance_input = float(input(\"Enter capacitance value: \"))\n",
        "\n",
        "# Get water content\n",
        "water_content = get_water_content(soil_type_input, capacitance_input)\n",
        "\n",
        "# Output result\n",
        "if isinstance(water_content, str):\n",
        "    print(water_content)  # Error message if no match found\n",
        "else:\n",
        "    print(f\"The water content for {soil_type_input} with capacitance {capacitance_input} is {water_content}%.\")\n"
      ],
      "metadata": {
        "colab": {
          "base_uri": "https://localhost:8080/"
        },
        "id": "E2TYGHPIJs87",
        "outputId": "439820d5-1551-4f1d-dbe9-b782e34a3257"
      },
      "execution_count": 9,
      "outputs": [
        {
          "output_type": "stream",
          "name": "stdout",
          "text": [
            "Enter soil type (e.g., 'Coarse Sand', 'Medium Coarse Sand', 'Fine Sand'): Fine Sand\n",
            "Enter capacitance value: 1280\n",
            "The water content for Fine Sand with capacitance 1280.0 is 12.51221896%.\n"
          ]
        }
      ]
    },
    {
      "cell_type": "code",
      "source": [
        "import pandas as pd\n",
        "import numpy as np\n",
        "import os\n",
        "from sklearn.metrics import confusion_matrix, classification_report, ConfusionMatrixDisplay\n",
        "import matplotlib.pyplot as plt\n",
        "\n",
        "# # Directory where your CSV files are located\n",
        "# csv_directory = '/content/drive/My Drive'\n",
        "\n",
        "# # Load CSV files into a dictionary\n",
        "# datasets = {}\n",
        "# soil_files = {\n",
        "#     \"Coarse Sand\": \"CSV-C.csv\",\n",
        "#     \"Medium Coarse Sand\": \"MCa.csv\",\n",
        "#     \"Fine Sand\": \"Finei.csv\"\n",
        "# }\n",
        "\n",
        "# # Load each CSV file into the datasets dictionary\n",
        "# for soil_type, file_name in soil_files.items():\n",
        "#     file_path = os.path.join(csv_directory, file_name)\n",
        "#     datasets[soil_type] = pd.read_csv(file_path)\n",
        "\n",
        "# # Function to predict soil type based on capacitance\n",
        "# def predict_soil_type(capacitance):\n",
        "#     closest_soil_type = None\n",
        "#     smallest_difference = float(\"inf\")\n",
        "\n",
        "#     for soil_type, df in datasets.items():\n",
        "#         # Find the closest capacitance in the current dataset\n",
        "#         closest_row = df.iloc[(np.abs(df[\"Capacitance \"] - capacitance)).argmin()]\n",
        "#         diff = np.abs(closest_row[\"Capacitance \"] - capacitance)\n",
        "\n",
        "#         # Update if this soil type is a closer match\n",
        "#         if diff < smallest_difference:\n",
        "#             smallest_difference = diff\n",
        "#             closest_soil_type = soil_type\n",
        "\n",
        "#     return closest_soil_type\n",
        "\n",
        "# Test dataset for evaluation\n",
        "test_data = [\n",
        "    {\"True Soil Type\": \"Coarse Sand\", \"Capacitance\": 1.25},\n",
        "    {\"True Soil Type\": \"Medium Coarse Sand\", \"Capacitance\": 2.10},\n",
        "    {\"True Soil Type\": \"Fine Sand\", \"Capacitance\": 3.50},\n",
        "    {\"True Soil Type\": \"Coarse Sand\", \"Capacitance\": 1.30},\n",
        "    {\"True Soil Type\": \"Fine Sand\", \"Capacitance\": 3.60}\n",
        "]\n",
        "\n",
        "# Evaluate predictions\n",
        "true_labels = []\n",
        "predicted_labels = []\n",
        "\n",
        "for sample in test_data:\n",
        "    true_labels.append(sample[\"True Soil Type\"])\n",
        "    predicted_labels.append(predict_soil_type(sample[\"Capacitance \"]))\n",
        "\n",
        "# Compute confusion matrix\n",
        "cm = confusion_matrix(true_labels, predicted_labels, labels=soil_files.keys())\n",
        "\n",
        "# Display confusion matrix\n",
        "disp = ConfusionMatrixDisplay(confusion_matrix=cm, display_labels=soil_files.keys())\n",
        "disp.plot(cmap=\"Pastel1\")\n",
        "plt.title(\"Confusion Matrix\")\n",
        "plt.show()\n",
        "\n",
        "# Print classification report\n",
        "print(\"Classification Report:\")\n",
        "print(classification_report(true_labels, predicted_labels, target_names=soil_files.keys()))\n"
      ],
      "metadata": {
        "colab": {
          "base_uri": "https://localhost:8080/",
          "height": 207
        },
        "id": "yWwMdiqxH8Gz",
        "outputId": "84f4537a-4581-4278-863c-2b76c1017ea3"
      },
      "execution_count": 5,
      "outputs": [
        {
          "output_type": "error",
          "ename": "NameError",
          "evalue": "name 'predict_soil_type' is not defined",
          "traceback": [
            "\u001b[0;31m---------------------------------------------------------------------------\u001b[0m",
            "\u001b[0;31mNameError\u001b[0m                                 Traceback (most recent call last)",
            "\u001b[0;32m<ipython-input-5-5e34e28be431>\u001b[0m in \u001b[0;36m<cell line: 53>\u001b[0;34m()\u001b[0m\n\u001b[1;32m     53\u001b[0m \u001b[0;32mfor\u001b[0m \u001b[0msample\u001b[0m \u001b[0;32min\u001b[0m \u001b[0mtest_data\u001b[0m\u001b[0;34m:\u001b[0m\u001b[0;34m\u001b[0m\u001b[0;34m\u001b[0m\u001b[0m\n\u001b[1;32m     54\u001b[0m     \u001b[0mtrue_labels\u001b[0m\u001b[0;34m.\u001b[0m\u001b[0mappend\u001b[0m\u001b[0;34m(\u001b[0m\u001b[0msample\u001b[0m\u001b[0;34m[\u001b[0m\u001b[0;34m\"True Soil Type\"\u001b[0m\u001b[0;34m]\u001b[0m\u001b[0;34m)\u001b[0m\u001b[0;34m\u001b[0m\u001b[0;34m\u001b[0m\u001b[0m\n\u001b[0;32m---> 55\u001b[0;31m     \u001b[0mpredicted_labels\u001b[0m\u001b[0;34m.\u001b[0m\u001b[0mappend\u001b[0m\u001b[0;34m(\u001b[0m\u001b[0mpredict_soil_type\u001b[0m\u001b[0;34m(\u001b[0m\u001b[0msample\u001b[0m\u001b[0;34m[\u001b[0m\u001b[0;34m\"Capacitance \"\u001b[0m\u001b[0;34m]\u001b[0m\u001b[0;34m)\u001b[0m\u001b[0;34m)\u001b[0m\u001b[0;34m\u001b[0m\u001b[0;34m\u001b[0m\u001b[0m\n\u001b[0m\u001b[1;32m     56\u001b[0m \u001b[0;34m\u001b[0m\u001b[0m\n\u001b[1;32m     57\u001b[0m \u001b[0;31m# Compute confusion matrix\u001b[0m\u001b[0;34m\u001b[0m\u001b[0;34m\u001b[0m\u001b[0m\n",
            "\u001b[0;31mNameError\u001b[0m: name 'predict_soil_type' is not defined"
          ]
        }
      ]
    },
    {
      "cell_type": "code",
      "execution_count": 10,
      "metadata": {
        "colab": {
          "base_uri": "https://localhost:8080/",
          "height": 207
        },
        "id": "YfdObrPe5NRf",
        "outputId": "e802de52-3b6a-4d5c-fce2-366d86174929"
      },
      "outputs": [
        {
          "output_type": "error",
          "ename": "IndexError",
          "evalue": "index 0 is out of bounds for axis 0 with size 0",
          "traceback": [
            "\u001b[0;31m---------------------------------------------------------------------------\u001b[0m",
            "\u001b[0;31mIndexError\u001b[0m                                Traceback (most recent call last)",
            "\u001b[0;32m<ipython-input-10-06eacc537be9>\u001b[0m in \u001b[0;36m<cell line: 32>\u001b[0;34m()\u001b[0m\n\u001b[1;32m     30\u001b[0m \u001b[0;31m# Plot the data and connect the dots\u001b[0m\u001b[0;34m\u001b[0m\u001b[0;34m\u001b[0m\u001b[0m\n\u001b[1;32m     31\u001b[0m \u001b[0mwater_content\u001b[0m \u001b[0;34m=\u001b[0m \u001b[0;34m[\u001b[0m\u001b[0;36m2\u001b[0m\u001b[0;34m,\u001b[0m \u001b[0;36m4\u001b[0m\u001b[0;34m,\u001b[0m \u001b[0;36m6\u001b[0m\u001b[0;34m,\u001b[0m \u001b[0;36m8\u001b[0m\u001b[0;34m,\u001b[0m \u001b[0;36m10\u001b[0m\u001b[0;34m,\u001b[0m \u001b[0;36m12\u001b[0m\u001b[0;34m,\u001b[0m \u001b[0;36m14\u001b[0m\u001b[0;34m,\u001b[0m \u001b[0;36m16\u001b[0m\u001b[0;34m]\u001b[0m\u001b[0;34m\u001b[0m\u001b[0;34m\u001b[0m\u001b[0m\n\u001b[0;32m---> 32\u001b[0;31m \u001b[0mplt\u001b[0m\u001b[0;34m.\u001b[0m\u001b[0mplot\u001b[0m\u001b[0;34m(\u001b[0m\u001b[0mwater_content\u001b[0m\u001b[0;34m,\u001b[0m \u001b[0mc_soil_data\u001b[0m\u001b[0;34m[\u001b[0m\u001b[0;36m0\u001b[0m\u001b[0;34m]\u001b[0m\u001b[0;34m,\u001b[0m \u001b[0mcolor\u001b[0m\u001b[0;34m=\u001b[0m\u001b[0;34m'blue'\u001b[0m\u001b[0;34m,\u001b[0m \u001b[0mlabel\u001b[0m\u001b[0;34m=\u001b[0m\u001b[0;34m'Data of  C Soil'\u001b[0m\u001b[0;34m,\u001b[0m \u001b[0mmarker\u001b[0m\u001b[0;34m=\u001b[0m\u001b[0;34m'o'\u001b[0m\u001b[0;34m)\u001b[0m\u001b[0;34m\u001b[0m\u001b[0;34m\u001b[0m\u001b[0m\n\u001b[0m\u001b[1;32m     33\u001b[0m \u001b[0mplt\u001b[0m\u001b[0;34m.\u001b[0m\u001b[0mplot\u001b[0m\u001b[0;34m(\u001b[0m\u001b[0mwater_content\u001b[0m\u001b[0;34m,\u001b[0m \u001b[0mmc_soil_data\u001b[0m\u001b[0;34m[\u001b[0m\u001b[0;36m0\u001b[0m\u001b[0;34m]\u001b[0m\u001b[0;34m,\u001b[0m \u001b[0mcolor\u001b[0m\u001b[0;34m=\u001b[0m\u001b[0;34m'yellow'\u001b[0m\u001b[0;34m,\u001b[0m \u001b[0mlabel\u001b[0m\u001b[0;34m=\u001b[0m\u001b[0;34m'Data of MC Soil'\u001b[0m\u001b[0;34m,\u001b[0m \u001b[0mmarker\u001b[0m\u001b[0;34m=\u001b[0m\u001b[0;34m'o'\u001b[0m\u001b[0;34m)\u001b[0m\u001b[0;34m\u001b[0m\u001b[0;34m\u001b[0m\u001b[0m\n\u001b[1;32m     34\u001b[0m \u001b[0mplt\u001b[0m\u001b[0;34m.\u001b[0m\u001b[0mplot\u001b[0m\u001b[0;34m(\u001b[0m\u001b[0mwater_content\u001b[0m\u001b[0;34m,\u001b[0m \u001b[0mfr_soil_data\u001b[0m\u001b[0;34m[\u001b[0m\u001b[0;36m0\u001b[0m\u001b[0;34m]\u001b[0m\u001b[0;34m,\u001b[0m \u001b[0mcolor\u001b[0m\u001b[0;34m=\u001b[0m\u001b[0;34m'pink'\u001b[0m\u001b[0;34m,\u001b[0m \u001b[0mlabel\u001b[0m\u001b[0;34m=\u001b[0m\u001b[0;34m'Data of fr Soil'\u001b[0m\u001b[0;34m,\u001b[0m \u001b[0mmarker\u001b[0m\u001b[0;34m=\u001b[0m\u001b[0;34m'o'\u001b[0m\u001b[0;34m)\u001b[0m\u001b[0;34m\u001b[0m\u001b[0;34m\u001b[0m\u001b[0m\n",
            "\u001b[0;31mIndexError\u001b[0m: index 0 is out of bounds for axis 0 with size 0"
          ]
        }
      ],
      "source": [
        "import numpy as np\n",
        "import matplotlib.pyplot as plt\n",
        "import pandas as pd\n",
        "\n",
        "# Read the data from the text file\n",
        "with open(file_path, 'r') as file:\n",
        "    lines = file.readlines()\n",
        "\n",
        "# Extract data for \"Data of C Soil\" and \"Data of MC Soil\"\n",
        "c_soil_data = []\n",
        "mc_soil_data = []\n",
        "fr_soil_data = []\n",
        "fp_soil_data = []\n",
        "for line in lines:\n",
        "    if line.startswith(\"Data of  C Soil:\"):\n",
        "        c_soil_data.append(line.strip().split(\":\")[1].strip().split(\",\"))\n",
        "    elif line.startswith(\"Data of MC Soil:\"):\n",
        "        mc_soil_data.append(line.strip().split(\":\")[1].strip().split(\",\"))\n",
        "    elif line.startswith(\"Data of fr Soil:\"):\n",
        "        fr_soil_data.append(line.strip().split(\":\")[1].strip().split(\",\"))\n",
        "    elif line.startswith(\"Data of fp Soil:\"):\n",
        "        fp_soil_data.append(line.strip().split(\":\")[1].strip().split(\",\"))\n",
        "\n",
        "# Convert data to numpy arrays\n",
        "c_soil_data = np.array(c_soil_data, dtype=float)\n",
        "mc_soil_data = np.array(mc_soil_data, dtype=float)\n",
        "fr_soil_data = np.array(fr_soil_data, dtype=float)\n",
        "fp_soil_data = np.array(fp_soil_data, dtype=float)\n",
        "\n",
        "# Plot the data and connect the dots\n",
        "water_content = [2, 4, 6, 8, 10, 12, 14, 16]\n",
        "plt.plot(water_content, c_soil_data[0], color='blue', label='Data of  C Soil', marker='o')\n",
        "plt.plot(water_content, mc_soil_data[0], color='yellow', label='Data of MC Soil', marker='o')\n",
        "plt.plot(water_content, fr_soil_data[0], color='pink', label='Data of fr Soil', marker='o')\n",
        "plt.plot(water_content, fp_soil_data[0], color='grey', label='Data of fp Soil', marker='o')\n",
        "\n",
        "# Add labels and legend\n",
        "plt.xlabel('Water Content')\n",
        "plt.ylabel('Capacitance')\n",
        "plt.legend()\n",
        "\n",
        "# Show the plot\n",
        "plt.show()"
      ]
    },
    {
      "cell_type": "markdown",
      "metadata": {
        "id": "CG6BBJHXG3xZ"
      },
      "source": []
    },
    {
      "cell_type": "code",
      "execution_count": null,
      "metadata": {
        "colab": {
          "base_uri": "https://localhost:8080/"
        },
        "id": "nATWNy_75NRh",
        "outputId": "abca06fd-2b6d-4756-f1ac-5db52c851881"
      },
      "outputs": [
        {
          "name": "stdout",
          "output_type": "stream",
          "text": [
            "Unknown Soil Capacitances.\n",
            "For 2% water content: 2040\n",
            "For 4% water content: 1798\n",
            "For 6% water content: 1880\n",
            "For 8% water content: 1490\n",
            "For 10% water content: 1320\n",
            "For 12% water content: 1300\n",
            "For 14% water content: 1150\n",
            "For 16% water content: 1125\n"
          ]
        }
      ],
      "source": [
        "print(\"Unknown Soil Capacitances.\")\n",
        "\n",
        "unknown_capacitances = []\n",
        "for i in range(len(water_content)):\n",
        "    capacitance = input(f\"For {water_content[i]}% water content: \")\n",
        "    unknown_capacitances.append(float(capacitance))"
      ]
    },
    {
      "cell_type": "code",
      "execution_count": null,
      "metadata": {
        "colab": {
          "base_uri": "https://localhost:8080/",
          "height": 449
        },
        "id": "K5X06yfE5NRk",
        "outputId": "ca7da09b-d5a2-48e8-b949-c69a385b2d40"
      },
      "outputs": [
        {
          "output_type": "display_data",
          "data": {
            "text/plain": [
              "<Figure size 640x480 with 1 Axes>"
            ],
            "image/png": "[encoded data removed]"
          },
          "metadata": {}
        }
      ],
      "source": [
        "# Plot the data and connect the dots\n",
        "water_content = [2, 4, 6, 8, 10, 12, 14, 16]\n",
        "plt.plot(water_content, c_soil_data[0], color='blue', label='C Soil', marker='o')\n",
        "plt.plot(water_content, mc_soil_data[0], color='yellow', label='MC Soil', marker='o')\n",
        "plt.plot(water_content, fr_soil_data[0], color='pink', label='Fine Sand', marker='o')\n",
        "plt.plot(water_content, fp_soil_data[0], color='grey', label='Fine Sand', marker='o')\n",
        "plt.plot(water_content, unknown_capacitances, color='red', label='Your Soil', marker='o')\n",
        "\n",
        "# Add labels and legend\n",
        "plt.xlabel('Water Content')\n",
        "plt.ylabel('Capacitance')\n",
        "plt.legend()\n",
        "\n",
        "# Show the plot\n",
        "plt.show()"
      ]
    },
    {
      "cell_type": "code",
      "source": [],
      "metadata": {
        "id": "fyQRabPuHHhX"
      },
      "execution_count": null,
      "outputs": []
    },
    {
      "cell_type": "code",
      "execution_count": null,
      "metadata": {
        "colab": {
          "base_uri": "https://localhost:8080/",
          "height": 345
        },
        "id": "v_rM5RYinWTs",
        "outputId": "2319e627-a192-468d-d9cf-dd83a729d345"
      },
      "outputs": [
        {
          "data": {
            "text/html": [
              "\n",
              "     <input type=\"file\" id=\"files-16f076c8-3622-489a-9733-69cdf1d4f29d\" name=\"files[]\" multiple disabled\n",
              "        style=\"border:none\" />\n",
              "     <output id=\"result-16f076c8-3622-489a-9733-69cdf1d4f29d\">\n",
              "      Upload widget is only available when the cell has been executed in the\n",
              "      current browser session. Please rerun this cell to enable.\n",
              "      </output>\n",
              "      <script>// Copyright 2017 Google LLC\n",
              "//\n",
              "// Licensed under the Apache License, Version 2.0 (the \"License\");\n",
              "// you may not use this file except in compliance with the License.\n",
              "// You may obtain a copy of the License at\n",
              "//\n",
              "//      http://www.apache.org/licenses/LICENSE-2.0\n",
              "//\n",
              "// Unless required by applicable law or agreed to in writing, software\n",
              "// distributed under the License is distributed on an \"AS IS\" BASIS,\n",
              "// WITHOUT WARRANTIES OR CONDITIONS OF ANY KIND, either express or implied.\n",
              "// See the License for the specific language governing permissions and\n",
              "// limitations under the License.\n",
              "\n",
              "/**\n",
              " * @fileoverview Helpers for google.colab Python module.\n",
              " */\n",
              "(function(scope) {\n",
              "function span(text, styleAttributes = {}) {\n",
              "  const element = document.createElement('span');\n",
              "  element.textContent = text;\n",
              "  for (const key of Object.keys(styleAttributes)) {\n",
              "    element.style[key] = styleAttributes[key];\n",
              "  }\n",
              "  return element;\n",
              "}\n",
              "\n",
              "// Max number of bytes which will be uploaded at a time.\n",
              "const MAX_PAYLOAD_SIZE = 100 * 1024;\n",
              "\n",
              "function _uploadFiles(inputId, outputId) {\n",
              "  const steps = uploadFilesStep(inputId, outputId);\n",
              "  const outputElement = document.getElementById(outputId);\n",
              "  // Cache steps on the outputElement to make it available for the next call\n",
              "  // to uploadFilesContinue from Python.\n",
              "  outputElement.steps = steps;\n",
              "\n",
              "  return _uploadFilesContinue(outputId);\n",
              "}\n",
              "\n",
              "// This is roughly an async generator (not supported in the browser yet),\n",
              "// where there are multiple asynchronous steps and the Python side is going\n",
              "// to poll for completion of each step.\n",
              "// This uses a Promise to block the python side on completion of each step,\n",
              "// then passes the result of the previous step as the input to the next step.\n",
              "function _uploadFilesContinue(outputId) {\n",
              "  const outputElement = document.getElementById(outputId);\n",
              "  const steps = outputElement.steps;\n",
              "\n",
              "  const next = steps.next(outputElement.lastPromiseValue);\n",
              "  return Promise.resolve(next.value.promise).then((value) => {\n",
              "    // Cache the last promise value to make it available to the next\n",
              "    // step of the generator.\n",
              "    outputElement.lastPromiseValue = value;\n",
              "    return next.value.response;\n",
              "  });\n",
              "}\n",
              "\n",
              "/**\n",
              " * Generator function which is called between each async step of the upload\n",
              " * process.\n",
              " * @param {string} inputId Element ID of the input file picker element.\n",
              " * @param {string} outputId Element ID of the output display.\n",
              " * @return {!Iterable<!Object>} Iterable of next steps.\n",
              " */\n",
              "function* uploadFilesStep(inputId, outputId) {\n",
              "  const inputElement = document.getElementById(inputId);\n",
              "  inputElement.disabled = false;\n",
              "\n",
              "  const outputElement = document.getElementById(outputId);\n",
              "  outputElement.innerHTML = '';\n",
              "\n",
              "  const pickedPromise = new Promise((resolve) => {\n",
              "    inputElement.addEventListener('change', (e) => {\n",
              "      resolve(e.target.files);\n",
              "    });\n",
              "  });\n",
              "\n",
              "  const cancel = document.createElement('button');\n",
              "  inputElement.parentElement.appendChild(cancel);\n",
              "  cancel.textContent = 'Cancel upload';\n",
              "  const cancelPromise = new Promise((resolve) => {\n",
              "    cancel.onclick = () => {\n",
              "      resolve(null);\n",
              "    };\n",
              "  });\n",
              "\n",
              "  // Wait for the user to pick the files.\n",
              "  const files = yield {\n",
              "    promise: Promise.race([pickedPromise, cancelPromise]),\n",
              "    response: {\n",
              "      action: 'starting',\n",
              "    }\n",
              "  };\n",
              "\n",
              "  cancel.remove();\n",
              "\n",
              "  // Disable the input element since further picks are not allowed.\n",
              "  inputElement.disabled = true;\n",
              "\n",
              "  if (!files) {\n",
              "    return {\n",
              "      response: {\n",
              "        action: 'complete',\n",
              "      }\n",
              "    };\n",
              "  }\n",
              "\n",
              "  for (const file of files) {\n",
              "    const li = document.createElement('li');\n",
              "    li.append(span(file.name, {fontWeight: 'bold'}));\n",
              "    li.append(span(\n",
              "        `(${file.type || 'n/a'}) - ${file.size} bytes, ` +\n",
              "        `last modified: ${\n",
              "            file.lastModifiedDate ? file.lastModifiedDate.toLocaleDateString() :\n",
              "                                    'n/a'} - `));\n",
              "    const percent = span('0% done');\n",
              "    li.appendChild(percent);\n",
              "\n",
              "    outputElement.appendChild(li);\n",
              "\n",
              "    const fileDataPromise = new Promise((resolve) => {\n",
              "      const reader = new FileReader();\n",
              "      reader.onload = (e) => {\n",
              "        resolve(e.target.result);\n",
              "      };\n",
              "      reader.readAsArrayBuffer(file);\n",
              "    });\n",
              "    // Wait for the data to be ready.\n",
              "    let fileData = yield {\n",
              "      promise: fileDataPromise,\n",
              "      response: {\n",
              "        action: 'continue',\n",
              "      }\n",
              "    };\n",
              "\n",
              "    // Use a chunked sending to avoid message size limits. See b/62115660.\n",
              "    let position = 0;\n",
              "    do {\n",
              "      const length = Math.min(fileData.byteLength - position, MAX_PAYLOAD_SIZE);\n",
              "      const chunk = new Uint8Array(fileData, position, length);\n",
              "      position += length;\n",
              "\n",
              "      const base64 = btoa(String.fromCharCode.apply(null, chunk));\n",
              "      yield {\n",
              "        response: {\n",
              "          action: 'append',\n",
              "          file: file.name,\n",
              "          data: base64,\n",
              "        },\n",
              "      };\n",
              "\n",
              "      let percentDone = fileData.byteLength === 0 ?\n",
              "          100 :\n",
              "          Math.round((position / fileData.byteLength) * 100);\n",
              "      percent.textContent = `${percentDone}% done`;\n",
              "\n",
              "    } while (position < fileData.byteLength);\n",
              "  }\n",
              "\n",
              "  // All done.\n",
              "  yield {\n",
              "    response: {\n",
              "      action: 'complete',\n",
              "    }\n",
              "  };\n",
              "}\n",
              "\n",
              "scope.google = scope.google || {};\n",
              "scope.google.colab = scope.google.colab || {};\n",
              "scope.google.colab._files = {\n",
              "  _uploadFiles,\n",
              "  _uploadFilesContinue,\n",
              "};\n",
              "})(self);\n",
              "</script> "
            ],
            "text/plain": [
              "<IPython.core.display.HTML object>"
            ]
          },
          "metadata": {},
          "output_type": "display_data"
        },
        {
          "ename": "KeyboardInterrupt",
          "evalue": "",
          "output_type": "error",
          "traceback": [
            "\u001b[0;31m---------------------------------------------------------------------------\u001b[0m",
            "\u001b[0;31mKeyboardInterrupt\u001b[0m                         Traceback (most recent call last)",
            "\u001b[0;32m<ipython-input-7-21dc3c638f66>\u001b[0m in \u001b[0;36m<cell line: 2>\u001b[0;34m()\u001b[0m\n\u001b[1;32m      1\u001b[0m \u001b[0;32mfrom\u001b[0m \u001b[0mgoogle\u001b[0m\u001b[0;34m.\u001b[0m\u001b[0mcolab\u001b[0m \u001b[0;32mimport\u001b[0m \u001b[0mfiles\u001b[0m\u001b[0;34m\u001b[0m\u001b[0;34m\u001b[0m\u001b[0m\n\u001b[0;32m----> 2\u001b[0;31m \u001b[0muploaded\u001b[0m \u001b[0;34m=\u001b[0m \u001b[0mfiles\u001b[0m\u001b[0;34m.\u001b[0m\u001b[0mupload\u001b[0m\u001b[0;34m(\u001b[0m\u001b[0;34m)\u001b[0m\u001b[0;34m\u001b[0m\u001b[0;34m\u001b[0m\u001b[0m\n\u001b[0m",
            "\u001b[0;32m/usr/local/lib/python3.10/dist-packages/google/colab/files.py\u001b[0m in \u001b[0;36mupload\u001b[0;34m(target_dir)\u001b[0m\n\u001b[1;32m     70\u001b[0m   \"\"\"\n\u001b[1;32m     71\u001b[0m \u001b[0;34m\u001b[0m\u001b[0m\n\u001b[0;32m---> 72\u001b[0;31m   \u001b[0muploaded_files\u001b[0m \u001b[0;34m=\u001b[0m \u001b[0m_upload_files\u001b[0m\u001b[0;34m(\u001b[0m\u001b[0mmultiple\u001b[0m\u001b[0;34m=\u001b[0m\u001b[0;32mTrue\u001b[0m\u001b[0;34m)\u001b[0m\u001b[0;34m\u001b[0m\u001b[0;34m\u001b[0m\u001b[0m\n\u001b[0m\u001b[1;32m     73\u001b[0m   \u001b[0;31m# Mapping from original filename to filename as saved locally.\u001b[0m\u001b[0;34m\u001b[0m\u001b[0;34m\u001b[0m\u001b[0m\n\u001b[1;32m     74\u001b[0m   \u001b[0mlocal_filenames\u001b[0m \u001b[0;34m=\u001b[0m \u001b[0mdict\u001b[0m\u001b[0;34m(\u001b[0m\u001b[0;34m)\u001b[0m\u001b[0;34m\u001b[0m\u001b[0;34m\u001b[0m\u001b[0m\n",
            "\u001b[0;32m/usr/local/lib/python3.10/dist-packages/google/colab/files.py\u001b[0m in \u001b[0;36m_upload_files\u001b[0;34m(multiple)\u001b[0m\n\u001b[1;32m    162\u001b[0m \u001b[0;34m\u001b[0m\u001b[0m\n\u001b[1;32m    163\u001b[0m   \u001b[0;31m# First result is always an indication that the file picker has completed.\u001b[0m\u001b[0;34m\u001b[0m\u001b[0;34m\u001b[0m\u001b[0m\n\u001b[0;32m--> 164\u001b[0;31m   result = _output.eval_js(\n\u001b[0m\u001b[1;32m    165\u001b[0m       'google.colab._files._uploadFiles(\"{input_id}\", \"{output_id}\")'.format(\n\u001b[1;32m    166\u001b[0m           \u001b[0minput_id\u001b[0m\u001b[0;34m=\u001b[0m\u001b[0minput_id\u001b[0m\u001b[0;34m,\u001b[0m \u001b[0moutput_id\u001b[0m\u001b[0;34m=\u001b[0m\u001b[0moutput_id\u001b[0m\u001b[0;34m\u001b[0m\u001b[0;34m\u001b[0m\u001b[0m\n",
            "\u001b[0;32m/usr/local/lib/python3.10/dist-packages/google/colab/output/_js.py\u001b[0m in \u001b[0;36meval_js\u001b[0;34m(script, ignore_result, timeout_sec)\u001b[0m\n\u001b[1;32m     38\u001b[0m   \u001b[0;32mif\u001b[0m \u001b[0mignore_result\u001b[0m\u001b[0;34m:\u001b[0m\u001b[0;34m\u001b[0m\u001b[0;34m\u001b[0m\u001b[0m\n\u001b[1;32m     39\u001b[0m     \u001b[0;32mreturn\u001b[0m\u001b[0;34m\u001b[0m\u001b[0;34m\u001b[0m\u001b[0m\n\u001b[0;32m---> 40\u001b[0;31m   \u001b[0;32mreturn\u001b[0m \u001b[0m_message\u001b[0m\u001b[0;34m.\u001b[0m\u001b[0mread_reply_from_input\u001b[0m\u001b[0;34m(\u001b[0m\u001b[0mrequest_id\u001b[0m\u001b[0;34m,\u001b[0m \u001b[0mtimeout_sec\u001b[0m\u001b[0;34m)\u001b[0m\u001b[0;34m\u001b[0m\u001b[0;34m\u001b[0m\u001b[0m\n\u001b[0m\u001b[1;32m     41\u001b[0m \u001b[0;34m\u001b[0m\u001b[0m\n\u001b[1;32m     42\u001b[0m \u001b[0;34m\u001b[0m\u001b[0m\n",
            "\u001b[0;32m/usr/local/lib/python3.10/dist-packages/google/colab/_message.py\u001b[0m in \u001b[0;36mread_reply_from_input\u001b[0;34m(message_id, timeout_sec)\u001b[0m\n\u001b[1;32m     94\u001b[0m     \u001b[0mreply\u001b[0m \u001b[0;34m=\u001b[0m \u001b[0m_read_next_input_message\u001b[0m\u001b[0;34m(\u001b[0m\u001b[0;34m)\u001b[0m\u001b[0;34m\u001b[0m\u001b[0;34m\u001b[0m\u001b[0m\n\u001b[1;32m     95\u001b[0m     \u001b[0;32mif\u001b[0m \u001b[0mreply\u001b[0m \u001b[0;34m==\u001b[0m \u001b[0m_NOT_READY\u001b[0m \u001b[0;32mor\u001b[0m \u001b[0;32mnot\u001b[0m \u001b[0misinstance\u001b[0m\u001b[0;34m(\u001b[0m\u001b[0mreply\u001b[0m\u001b[0;34m,\u001b[0m \u001b[0mdict\u001b[0m\u001b[0;34m)\u001b[0m\u001b[0;34m:\u001b[0m\u001b[0;34m\u001b[0m\u001b[0;34m\u001b[0m\u001b[0m\n\u001b[0;32m---> 96\u001b[0;31m       \u001b[0mtime\u001b[0m\u001b[0;34m.\u001b[0m\u001b[0msleep\u001b[0m\u001b[0;34m(\u001b[0m\u001b[0;36m0.025\u001b[0m\u001b[0;34m)\u001b[0m\u001b[0;34m\u001b[0m\u001b[0;34m\u001b[0m\u001b[0m\n\u001b[0m\u001b[1;32m     97\u001b[0m       \u001b[0;32mcontinue\u001b[0m\u001b[0;34m\u001b[0m\u001b[0;34m\u001b[0m\u001b[0m\n\u001b[1;32m     98\u001b[0m     if (\n",
            "\u001b[0;31mKeyboardInterrupt\u001b[0m: "
          ]
        }
      ],
      "source": [
        "from google.colab import files\n",
        "uploaded = files.upload()\n"
      ]
    },
    {
      "cell_type": "code",
      "execution_count": null,
      "metadata": {
        "id": "WOxv_sWKn0xP"
      },
      "outputs": [],
      "source": [
        "file_path = '/content/drive/My Drive/data/Models/predict_val.txt'\n"
      ]
    },
    {
      "cell_type": "code",
      "execution_count": null,
      "metadata": {
        "colab": {
          "base_uri": "https://localhost:8080/"
        },
        "id": "xVOfvoXe5NRl",
        "outputId": "9f0bd64a-9119-42d9-daba-6a0ca1a7d576"
      },
      "outputs": [
        {
          "output_type": "stream",
          "name": "stdout",
          "text": [
            "Your soil is closer to Fine Sand.\n",
            " Particle size range (1/8 mm – 1/4 mm)\n",
            " Fineness modulus: 2.2–1.6\n",
            " Specific gravity: 2.60–2.70\n",
            " Bulk Density: < 1.75 g/cm³\n"
          ]
        }
      ],
      "source": [
        "from IPython.display import Image, display\n",
        "\n",
        "import numpy as np\n",
        "\n",
        "# Calculate mean absolute difference for C Soil data\n",
        "c_soil_mad = np.mean(np.abs(c_soil_data[0] - unknown_capacitances))\n",
        "\n",
        "# Calculate mean absolute difference for MC Soil data\n",
        "mc_soil_mad = np.mean(np.abs(mc_soil_data[0] - unknown_capacitances))\n",
        "\n",
        "\n",
        "# Calculate mean absolute difference for MC Soil data\n",
        "fp_soil_mad = np.mean(np.abs(fp_soil_data[0] - unknown_capacitances))\n",
        "if c_soil_mad < mc_soil_mad and c_soil_mad < fp_soil_mad:\n",
        "    print(\"Your soil is closer to Coarse Sand.\\n Particle size range (1/2 mm-1 mm)\\n Fineness modulus: 3.7-3.1\\n Specific gravity:  2.60-2.70\\n Bulk Density: > 1.80 g/cm³\")\n",
        "elif mc_soil_mad < c_soil_mad and mc_soil_mad < fp_soil_mad:\n",
        "    print(\"Your soil is closer to Medium Coarse Soil.\\n Particle size range (1/4 mm–1/2 mm)\\n Fineness modulus: 3.0 - 2.3\\n Specific gravity: 2.60-2.70\\n Bulk Density:  <1.80 g/cm³\")\n",
        "elif fp_soil_mad < c_soil_mad and fp_soil_mad < mc_soil_mad:\n",
        "    print(\"Your soil is closer to Fine Sand.\\n Particle size range (1/8 mm – 1/4 mm)\\n Fineness modulus: 2.2–1.6\\n Specific gravity: 2.60–2.70\\n Bulk Density: < 1.75 g/cm³\")\n",
        "else:\n",
        "    print(\"Your soil has a similar mean absolute difference with multiple soil types.\")\n",
        "# Determine which soil the unknown soil is closer to based on MAD\n",
        "#if c_soil_mad < mc_soil_mad &&  c_soil_mad > fp_soil_mad :\n",
        "# if c_soil_mad < mc_soil_mad &&  c_soil_mad > fp_soil_mad\n",
        "#     print(\"Your soil is closer to FP Soil.\")\n",
        "# elif c_soil_mad < mc_soil_mad && c_soil_mad < fp_soil_mad:\n",
        "#     print(\"Your soil is closer to C Soil.\")\n",
        "# elif mc_soil_mad < c_soil_mad :\n",
        "#         print(\"Your soil is closer to MC Soil.\")\n",
        "# else:\n",
        "#     print(\"Your soil has similar mean absolute difference with both C Soil,MC Soil and Fine Sand.\")\n",
        "    #image_path = '/content/drive/My Drive/data/Images/C1.png'\n",
        "    #display(Image(filename=image_path))\n",
        "    # image_path = '/content/drive/My Drive/data/Images/C2.png'\n",
        "    # display(Image(filename=image_path))\n",
        "   # display(Image(filename='/content/drive/My Drive/data/Images/C1.png'))\n",
        "# elif mc_soil_mad < c_soil_mad:\n",
        "#     print(\"Your soil is closer to MC Soil.\")\n",
        "    # image_path = '/content/drive/My Drive/data/Images/MC1.png'\n",
        "    # display(Image(filename=image_path))\n",
        "    #display(Image(filename='/content/drive/My Drive/data/Images/MC1.png'))\n",
        "# else:\n",
        "#     print(\"Your soil has similar mean absolute difference with both C Soil and MC Soil.\")\n"
      ]
    },
    {
      "cell_type": "code",
      "execution_count": null,
      "metadata": {
        "id": "FQOEXM1fnZl0"
      },
      "outputs": [],
      "source": [
        "import pandas as pd\n",
        "import matplotlib.pyplot as plt\n",
        "import seaborn as sns\n",
        "from IPython.display import Image, display\n",
        "\n",
        "# Load the Excel file\n",
        "file_path = 'THESIS MC AND C.xlsx'\n",
        "xls = pd.ExcelFile(file_path)\n",
        "\n",
        "# Display sheet names\n",
        "print(\"Sheet names:\", xls.sheet_names)\n",
        "\n",
        "# Load data from the sheets containing soil characteristics\n",
        "df_soil1 = pd.read_excel(xls, sheet_name=xls.sheet_names[0])\n",
        "df_soil2 = pd.read_excel(xls, sheet_name=xls.sheet_names[1])\n",
        "\n",
        "# Display first few rows of each dataframe\n",
        "print(\"Soil Type 1 Data:\")\n",
        "print(df_soil1.head())\n",
        "print(\"\\nSoil Type 2 Data:\")\n",
        "print(df_soil2.head())\n",
        "\n",
        "# Assuming we have a column named 'SoilType' to check for 'mc_soil'\n",
        "soil_type_to_check = 'mc_soil'\n",
        "\n",
        "if soil_type_to_check in df_soil1['SoilType'].values:\n",
        "    print(f\"{soil_type_to_check} found in Soil Type 1\")\n",
        "    display(Image(filename='ag.png'))\n",
        "elif soil_type_to_check in df_soil2['SoilType'].values:\n",
        "    print(f\"{soil_type_to_check} found in Soil Type 2\")\n",
        "    display(Image(filename='ag.png'))\n",
        "else:\n",
        "    print(f\"{soil_type_to_check} not found in any soil type\")\n",
        "    display(Image(filename='gradation_curve.png'))\n"
      ]
    },
    {
      "cell_type": "code",
      "source": [
        "from sklearn.metrics import confusion_matrix, ConfusionMatrixDisplay\n",
        "import numpy as np\n",
        "\n",
        "# Example data (true labels and predictions)\n",
        "true_labels = [\"C Soil\", \"MC Soil\", \"FP Soil\", \"C Soil\", \"FP Soil\"]\n",
        "predicted_labels = [\"C Soil\", \"MC Soil\", \"FP Soil\", \"FP Soil\", \"FP Soil\"]\n",
        "\n",
        "# Compute confusion matrix\n",
        "labels = [\"C Soil\", \"MC Soil\", \"FP Soil\"]\n",
        "cm = confusion_matrix(true_labels, predicted_labels, labels=labels)\n",
        "\n",
        "# Display confusion matrix\n",
        "disp = ConfusionMatrixDisplay(confusion_matrix=cm, display_labels=labels)\n",
        "disp.plot(cmap=\"viridis\")\n"
      ],
      "metadata": {
        "colab": {
          "base_uri": "https://localhost:8080/",
          "height": 472
        },
        "id": "-3DIpBZfCjaz",
        "outputId": "4a1d7d8d-dd7e-4354-884a-8c493ff165f3"
      },
      "execution_count": null,
      "outputs": [
        {
          "output_type": "execute_result",
          "data": {
            "text/plain": [
              "<sklearn.metrics._plot.confusion_matrix.ConfusionMatrixDisplay at 0x7ce56e146e30>"
            ]
          },
          "metadata": {},
          "execution_count": 53
        },
        {
          "output_type": "display_data",
          "data": {
            "text/plain": [
              "<Figure size 640x480 with 2 Axes>"
            ],
            "image/png": "[encoded data removed]"
          },
          "metadata": {}
        }
      ]
    },
    {
      "cell_type": "code",
      "source": [
        "from sklearn.metrics import confusion_matrix, ConfusionMatrixDisplay\n",
        "import numpy as np\n",
        "\n",
        "# Example data (true labels and predictions)\n",
        "true_labels = [\"C Soil\", \"MC Soil\", \"FP Soil\", \"C Soil\", \"FP Soil\"]\n",
        "predicted_labels = [\"C Soil\", \"MC Soil\", \"FP Soil\", \"FP Soil\", \"FP Soil\"]\n",
        "\n",
        "# Compute confusion matrix\n",
        "labels = [\"C Soil\", \"MC Soil\", \"FP Soil\"]\n",
        "cm = confusion_matrix(true_labels, predicted_labels, labels=labels)\n",
        "\n",
        "# Display confusion matrix\n",
        "disp = ConfusionMatrixDisplay(confusion_matrix=cm, display_labels=labels)\n",
        "disp.plot(cmap=\"viridis\")\n",
        "\n",
        "# Print classification report\n",
        "print(\"Classification Report:\")\n",
        "print(classification_report(true_labels, predicted_labels, target_names=soil_files.keys()))"
      ],
      "metadata": {
        "colab": {
          "base_uri": "https://localhost:8080/",
          "height": 646
        },
        "id": "lSMYcQ3DK-43",
        "outputId": "2d63e7cd-cd1d-4e6c-f9f8-73d94e4de808"
      },
      "execution_count": null,
      "outputs": [
        {
          "output_type": "stream",
          "name": "stdout",
          "text": [
            "Classification Report:\n",
            "                    precision    recall  f1-score   support\n",
            "\n",
            "       Coarse Sand       1.00      0.50      0.67         2\n",
            "Medium Coarse Sand       0.67      1.00      0.80         2\n",
            "         Fine Sand       1.00      1.00      1.00         1\n",
            "\n",
            "          accuracy                           0.80         5\n",
            "         macro avg       0.89      0.83      0.82         5\n",
            "      weighted avg       0.87      0.80      0.79         5\n",
            "\n"
          ]
        },
        {
          "output_type": "display_data",
          "data": {
            "text/plain": [
              "<Figure size 640x480 with 2 Axes>"
            ],
            "image/png": "[encoded data removed]"
          },
          "metadata": {}
        }
      ]
    }
  ],
  "metadata": {
    "accelerator": "GPU",
    "colab": {
      "gpuType": "T4",
      "provenance": [],
      "include_colab_link": true
    },
    "kernelspec": {
      "display_name": "Python 3",
      "name": "python3"
    },
    "language_info": {
      "codemirror_mode": {
        "name": "ipython",
        "version": 3
      },
      "file_extension": ".py",
      "mimetype": "text/x-python",
      "name": "python",
      "nbconvert_exporter": "python",
      "pygments_lexer": "ipython3",
      "version": "3.10.9"
    }
  },
  "nbformat": 4,
  "nbformat_minor": 0
}